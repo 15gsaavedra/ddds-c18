{
  "nbformat": 4,
  "nbformat_minor": 0,
  "metadata": {
    "colab": {
      "provenance": [],
      "authorship_tag": "ABX9TyMWY2dl1gxgeneIJgtPGAQT",
      "include_colab_link": true
    },
    "kernelspec": {
      "name": "python3",
      "display_name": "Python 3"
    },
    "language_info": {
      "name": "python"
    }
  },
  "cells": [
    {
      "cell_type": "markdown",
      "metadata": {
        "id": "view-in-github",
        "colab_type": "text"
      },
      "source": [
        "<a href=\"https://colab.research.google.com/github/15gsaavedra/ddds-c18/blob/main/1a_Markdown_About_Me_Exercise_final.ipynb\" target=\"_parent\"><img src=\"https://colab.research.google.com/assets/colab-badge.svg\" alt=\"Open In Colab\"/></a>"
      ]
    },
    {
      "cell_type": "code",
      "source": [],
      "metadata": {
        "id": "USiSeBj_ESx8"
      },
      "execution_count": null,
      "outputs": []
    },
    {
      "cell_type": "markdown",
      "source": [
        "# About Me\n",
        "- Prefered Name: I have no strong preference but *Gabe* or *Gabriel* tend to get my attention pretty well\n",
        "- Reason for Joining: I joind the datascience bootcamp to fill in the skill gaps I had for a data science career and for aid in making the most of potential job opportunities.\n",
        "- Animal Head Choice: If I had to choose an animal head to replace my own, I would choose that of a lyrebird.*\n",
        "- Top Three Apps To Keep On A Smartphone:\n",
        "\n",
        "  1. Settings\n",
        "  1. Messages\n",
        "  1. Google Chrome\n",
        "\n",
        "- Favorite Podcast: My Brother, My Brother & Me\n",
        "\n",
        "![My Brother, My Brother & Me](https://themcelroyfamily.b-cdn.net/content/uploads/2024/08/podcast_mbmbam-150x150.png \"My Brother, My Brother & Me\")\n",
        "\n",
        "- Other Hobbies:\n",
        "\n",
        "  - [Tabletop RPGs](https://en.wikipedia.org/wiki/Tabletop_role-playing_game) are a great way for me to stay connected with friends.\n",
        "  - I like to exercise at the gym in hopes of retaining as much mobility as possible in old age.\n",
        "\n",
        "  Anything Else:\n",
        "\n",
        "**Here**|**is**\n",
        "-|-\n",
        "a|table"
      ],
      "metadata": {
        "id": "zfNDni0Z9Qlq"
      }
    },
    {
      "cell_type": "code",
      "execution_count": null,
      "metadata": {
        "id": "KeeO_bFo8X2X"
      },
      "outputs": [],
      "source": [
        "%magic # gives detailed list of magic functions"
      ]
    }
  ]
}